{
 "cells": [
  {
   "cell_type": "markdown",
   "metadata": {},
   "source": [
    "## Container with most Water \n",
    "You are given an integer array height of length n. There are n vertical lines drawn such that the two endpoints of the ith line are (i, 0) and (i, height[i]). Find two lines that together with the x-axis form a container, such that the container contains the most water(depth is constant across containers). Return the area(that the 2 lines and the X axis make) of container which can store the max amount of water. Notice that you may not slant the container."
   ]
  },
  {
   "cell_type": "code",
   "execution_count": 1,
   "metadata": {},
   "outputs": [],
   "source": [
    "def most_water(h):\n",
    "    l = 0\n",
    "    r = len(h) - 1\n",
    "    ans = 0\n",
    "    \n",
    "    while l < r:\n",
    "        w = r - l\n",
    "        d = min(h[l], h[r])\n",
    "        t = w * d\n",
    "        ans = max(ans, t)\n",
    "        \n",
    "        if h[l] < h[r]:\n",
    "            l += 1\n",
    "        else:\n",
    "            r -= 1\n",
    "            \n",
    "    print(h)\n",
    "    print(ans,'\\n')"
   ]
  },
  {
   "cell_type": "code",
   "execution_count": 2,
   "metadata": {},
   "outputs": [
    {
     "name": "stdout",
     "output_type": "stream",
     "text": [
      "[1, 8, 6, 2, 5, 4, 8, 3, 7]\n",
      "49 \n",
      "\n"
     ]
    }
   ],
   "source": [
    "\n",
    "h = [1,8,6,2,5,4,8,3,7]\n",
    "most_water(h)"
   ]
  },
  {
   "cell_type": "code",
   "execution_count": 4,
   "metadata": {},
   "outputs": [
    {
     "name": "stdout",
     "output_type": "stream",
     "text": [
      "List 1\n",
      "[29]\n",
      "0 \n",
      "\n",
      "List 2\n",
      "[3, 38, 63]\n",
      "38 \n",
      "\n",
      "List 3\n",
      "[26]\n",
      "0 \n",
      "\n",
      "List 4\n",
      "[95, 13, 50, 42, 3, 87, 62, 43, 32, 28]\n",
      "435 \n",
      "\n",
      "List 5\n",
      "[15, 54, 36, 88, 91, 75, 3, 66, 70]\n",
      "378 \n",
      "\n",
      "List 6\n",
      "[67, 93, 58, 46, 62, 60, 86, 7, 18]\n",
      "430 \n",
      "\n",
      "List 7\n",
      "[65, 40, 93, 76, 12, 89, 60, 37, 75, 2]\n",
      "520 \n",
      "\n"
     ]
    }
   ],
   "source": [
    "# generating random list to check output\n",
    "\n",
    "import random\n",
    "\n",
    "# Define the number of lists and the maximum length of each inner list\n",
    "num_lists = 7\n",
    "max_length = 10  # Maximum number of elements in each inner list\n",
    "\n",
    "# Generate the list of lists\n",
    "list_of_lists = [\n",
    "    [random.randint(1, 100) for _ in range(random.randint(1, max_length))]\n",
    "    for _ in range(num_lists)\n",
    "]\n",
    "\n",
    "# Print the list of lists\n",
    "for i, inner_list in enumerate(list_of_lists):\n",
    "    print(f\"List {i+1}\")\n",
    "    most_water(inner_list)"
   ]
  }
 ],
 "metadata": {
  "kernelspec": {
   "display_name": "Python 3",
   "language": "python",
   "name": "python3"
  },
  "language_info": {
   "codemirror_mode": {
    "name": "ipython",
    "version": 3
   },
   "file_extension": ".py",
   "mimetype": "text/x-python",
   "name": "python",
   "nbconvert_exporter": "python",
   "pygments_lexer": "ipython3",
   "version": "3.12.5"
  }
 },
 "nbformat": 4,
 "nbformat_minor": 2
}
