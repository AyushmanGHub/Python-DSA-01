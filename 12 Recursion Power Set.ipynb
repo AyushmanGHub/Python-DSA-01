{
 "cells": [
  {
   "cell_type": "markdown",
   "metadata": {},
   "source": [
    "## Power Set \n",
    "Given an integer array of unique elements, return all possible subsets (the power set). The solution set must not contain duplicate subsets. Return the solution in any order."
   ]
  },
  {
   "cell_type": "code",
   "execution_count": 8,
   "metadata": {},
   "outputs": [],
   "source": [
    "# start from root which is empty i.e \"ini\"\n",
    "# at each level add element if moves right else just leave as it is\n",
    "\n",
    "def power_set(a):\n",
    "    pow_set = []\n",
    "    l = len(a)\n",
    "    def all_set(ini, i):\n",
    "        if i == l:\n",
    "            pow_set.append( ini )\n",
    "            return\n",
    "        else:\n",
    "            all_set(  ini + [a[i]] , i+1 )\n",
    "            all_set( ini, i+1)\n",
    "        \n",
    "    all_set([],0)                    \n",
    "    return pow_set"
   ]
  },
  {
   "cell_type": "code",
   "execution_count": 9,
   "metadata": {},
   "outputs": [
    {
     "name": "stdout",
     "output_type": "stream",
     "text": [
      "16 \n",
      "\n",
      "[[1, 2, 3, 4], [1, 2, 3], [1, 2, 4], [1, 2], [1, 3, 4], [1, 3], [1, 4], [1], [2, 3, 4], [2, 3], [2, 4], [2], [3, 4], [3], [4], []]\n"
     ]
    }
   ],
   "source": [
    "print(len(power_set([1,2,3,4])),'\\n')\n",
    "print(power_set([1,2,3,4]))"
   ]
  },
  {
   "cell_type": "code",
   "execution_count": 10,
   "metadata": {},
   "outputs": [
    {
     "name": "stdout",
     "output_type": "stream",
     "text": [
      "32 \n",
      "\n",
      "[[1, 2, 3, 4, 5], [1, 2, 3, 4], [1, 2, 3, 5], [1, 2, 3], [1, 2, 4, 5], [1, 2, 4], [1, 2, 5], [1, 2], [1, 3, 4, 5], [1, 3, 4], [1, 3, 5], [1, 3], [1, 4, 5], [1, 4], [1, 5], [1], [2, 3, 4, 5], [2, 3, 4], [2, 3, 5], [2, 3], [2, 4, 5], [2, 4], [2, 5], [2], [3, 4, 5], [3, 4], [3, 5], [3], [4, 5], [4], [5], []]\n"
     ]
    }
   ],
   "source": [
    "print(len(power_set([1,2,3,4,5])),'\\n')\n",
    "print(power_set([1,2,3,4,5]))"
   ]
  }
 ],
 "metadata": {
  "kernelspec": {
   "display_name": "Python 3",
   "language": "python",
   "name": "python3"
  },
  "language_info": {
   "codemirror_mode": {
    "name": "ipython",
    "version": 3
   },
   "file_extension": ".py",
   "mimetype": "text/x-python",
   "name": "python",
   "nbconvert_exporter": "python",
   "pygments_lexer": "ipython3",
   "version": "3.12.5"
  }
 },
 "nbformat": 4,
 "nbformat_minor": 2
}
