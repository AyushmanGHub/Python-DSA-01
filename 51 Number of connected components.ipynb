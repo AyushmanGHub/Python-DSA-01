{
 "cells": [
  {
   "cell_type": "markdown",
   "metadata": {},
   "source": [
    "## Number of connected components\n",
    "You are given a graph with n vertices. To indicate the connections in the graph you are given an array edges whose each element is an array of the form [u,v].<br>\n",
    " [u,v] indicates that there is an edge between u and v where u and v denote two vertices or nodes. Write a function that takes in ‘n’ and the ‘edges’ array and returns the number of connected components in the graph."
   ]
  },
  {
   "cell_type": "code",
   "execution_count": null,
   "metadata": {},
   "outputs": [],
   "source": [
    "# Time complexity of O(V + E)\n",
    "# Space complexity of O(V + E)\n",
    "\n",
    "def build_adj_list(n, edges):\n",
    "    adj_list = [[] for _ in range(n)]\n",
    "    \n",
    "    for edge in edges:   # Add edges to adjacency list\n",
    "        node1 = edge[0]  # first node of edge\n",
    "        node2 = edge[1]  # second node of edge\n",
    "        adj_list[node1].append(node2)\n",
    "        adj_list[node2].append(node1)\n",
    "    \n",
    "    return adj_list\n",
    " \n",
    "def dfs(graph, vertex, visited):\n",
    "    visited[vertex] = True\n",
    "    neighbors = graph[vertex]\n",
    "    for neighbor in neighbors:\n",
    "        if neighbor not in visited:\n",
    "            dfs(graph, neighbor, visited)\n",
    " \n",
    "def count_components(n, edges):\n",
    "    graph = build_adj_list(n, edges)\n",
    "    visited = {}\n",
    "    count = 0\n",
    "    for vertex in range(n):\n",
    "        if vertex not in visited:\n",
    "            count += 1\n",
    "            dfs(graph, vertex, visited)\n",
    "    \n",
    "    return count\n",
    " \n",
    "n = 7  # vertices 0, 1, 2, 3, 4, 5, 6\n",
    "edges = [[0,1],[1,2],[3,4],[5,6]]\n",
    "print(count_components(n, edges))\n"
   ]
  }
 ],
 "metadata": {
  "language_info": {
   "name": "python"
  }
 },
 "nbformat": 4,
 "nbformat_minor": 2
}
