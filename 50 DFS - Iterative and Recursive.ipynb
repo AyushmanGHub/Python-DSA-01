{
 "cells": [
  {
   "cell_type": "markdown",
   "metadata": {},
   "source": [
    "## DFS - Iterative and Recursive\n",
    "You are given a graph stored as an adjacency list. Write functions to traverse the graph using the Depth first Search approach\n",
    "1) recursively and\n",
    "2) iteratively.\n",
    "\n",
    "\n",
    "As you traverse the graph store the values of the vertices in an array and return this array."
   ]
  },
  {
   "cell_type": "code",
   "execution_count": 1,
   "metadata": {},
   "outputs": [
    {
     "name": "stdout",
     "output_type": "stream",
     "text": [
      "['C', 'B', 'A', 'F', 'E', 'D']\n"
     ]
    }
   ],
   "source": [
    "# 1. recursively \n",
    "# Time complexity of O(V + E)\n",
    "# Space complexity of O(V)\n",
    " \n",
    "def trav_recursive_DFS(graph, vertex, output, visited):\n",
    "    output.append(vertex)\n",
    "    visited[vertex] = True\n",
    "    neighbours = graph[vertex]\n",
    " \n",
    "    for neighbour in neighbours:\n",
    "        if neighbour not in visited:\n",
    "            trav_recursive_DFS(graph, neighbour, output, visited)\n",
    "    return output\n",
    "\n",
    "adjacency_list = {\n",
    "    'A': ['B', 'F'],\n",
    "    'B': ['A', 'F', 'C'],\n",
    "    'C': ['B', 'E', 'D'],\n",
    "    'D': ['C', 'E'],\n",
    "    'E': ['D', 'C', 'F'],\n",
    "    'F': ['A', 'B', 'E']\n",
    "}\n",
    "\n",
    "ans =[]\n",
    "visited = {}\n",
    "trav_recursive_DFS(adjacency_list, \"C\", ans,visited)\n",
    "print(ans)\n"
   ]
  },
  {
   "cell_type": "code",
   "execution_count": null,
   "metadata": {},
   "outputs": [],
   "source": [
    "# 2. iteratively\n",
    "# Time complexity of O(V + E)\n",
    "# Space complexity of O(V)\n",
    "\n",
    "# here we use stack\n",
    " \n",
    "def trav_DFS_iterative(graph, start):\n",
    "    output = []\n",
    "    visited = {}\n",
    "    stack = [start]\n",
    "\n",
    "    visited[start] = True\n",
    "    \n",
    "    while stack:\n",
    "        current = stack.pop()\n",
    "        output.append(current)\n",
    "        neighbours = graph[current]\n",
    "        \n",
    "        for neighbour in reversed(graph[current]):\n",
    "            if neighbour not in visited:\n",
    "                stack.append(neighbour)\n",
    "                visited[neighbour] = True\n",
    "    return output"
   ]
  },
  {
   "cell_type": "code",
   "execution_count": null,
   "metadata": {},
   "outputs": [],
   "source": [
    "# 2**. iteratively\n",
    "# Time complexity of O(V + E)\n",
    "# Space complexity of O(V)\n",
    "# here we use stack\n",
    "# here we use Set\n",
    "\n",
    "def trav_DFS_iterative1(graph, start):\n",
    "    output = []  \n",
    "    visited = set()  \n",
    "    stack = [start]  \n",
    "\n",
    "    while stack:\n",
    "        current = stack.pop()\n",
    "        if current not in visited:\n",
    "            output.append(current)  \n",
    "            visited.add(current)  \n",
    "            \n",
    "            for neighbor in reversed(graph[current]):\n",
    "                if neighbor not in visited:\n",
    "                    stack.append(neighbor)\n",
    "    \n",
    "    return output\n"
   ]
  },
  {
   "cell_type": "code",
   "execution_count": null,
   "metadata": {},
   "outputs": [],
   "source": [
    "adjacency_list1 = {\n",
    "    'A': ['B', 'F'],\n",
    "    'B': ['A', 'C'],\n",
    "    'C': ['B', 'E', 'D'],\n",
    "    'D': ['C', 'E'],\n",
    "    'E': ['D', 'C', 'F'],\n",
    "    'F': ['A', 'E']\n",
    "}\n",
    "\n",
    "adjacency_list2 = {\n",
    "    'A': ['B', 'F'],\n",
    "    'B': ['A', 'F', 'C'],\n",
    "    'C': ['B', 'E', 'D'],\n",
    "    'D': ['C', 'E'],\n",
    "    'E': ['D', 'C', 'F'],\n",
    "    'F': ['A', 'B', 'E']\n",
    "}\n",
    "\n",
    "print(trav_DFS_iterative(adjacency_list1, \"C\"))\n",
    "print(trav_DFS_iterative(adjacency_list2, \"C\"))\n",
    "\n",
    "print(trav_DFS_iterative1(adjacency_list1, \"C\"))\n",
    "print(trav_DFS_iterative1(adjacency_list2, \"C\"))\n",
    "\n",
    "ans =[]\n",
    "visited = {}\n",
    "print(trav_recursive_DFS(adjacency_list1, \"C\", ans,visited))\n",
    "ans =[]\n",
    "visited = {}\n",
    "print(trav_recursive_DFS(adjacency_list2, \"C\", ans,visited))"
   ]
  }
 ],
 "metadata": {
  "kernelspec": {
   "display_name": "Python 3",
   "language": "python",
   "name": "python3"
  },
  "language_info": {
   "codemirror_mode": {
    "name": "ipython",
    "version": 3
   },
   "file_extension": ".py",
   "mimetype": "text/x-python",
   "name": "python",
   "nbconvert_exporter": "python",
   "pygments_lexer": "ipython3",
   "version": "3.12.5"
  }
 },
 "nbformat": 4,
 "nbformat_minor": 2
}
