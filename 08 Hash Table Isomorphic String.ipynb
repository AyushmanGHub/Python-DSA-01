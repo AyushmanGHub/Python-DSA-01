{
 "cells": [
  {
   "cell_type": "markdown",
   "metadata": {},
   "source": [
    "##  Isomorphic Strings \n",
    "Given two strings s and t, determine if they are isomorphic. Two strings s and t are isomorphic if the characters in s can be replaced to get t. All occurrences of a character must be replaced with another character while preserving the order of characters. No two characters may map to the same character, but a character may map to itself. s and t consist of any valid ascii character."
   ]
  },
  {
   "cell_type": "code",
   "execution_count": null,
   "metadata": {},
   "outputs": [],
   "source": [
    "def is_isomorphic(a,b):\n",
    "    l = len(a)\n",
    "    dict = {}\n",
    "    if l != len(b):\n",
    "        return ( False )\n",
    "    \n",
    "    if not a and not b:\n",
    "        return True\n",
    "    \n",
    "    for i in range(l):\n",
    "        if a[i] not in dict:\n",
    "            dict[a[i]] = b[i]\n",
    "        elif ( b[i] != dict[a[i]] ):\n",
    "            return False\n",
    "    return True\n",
    "\n"
   ]
  }
 ],
 "metadata": {
  "language_info": {
   "name": "python"
  }
 },
 "nbformat": 4,
 "nbformat_minor": 2
}
