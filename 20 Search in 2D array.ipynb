{
 "cells": [
  {
   "cell_type": "markdown",
   "metadata": {},
   "source": [
    "## Search in 2D Array:\n",
    "Write an efficient algorithm that searches for a value target in an m x n integer matrix. This matrix has the following properties: \n",
    "1. Integers in each row are sorted from left to right.\n",
    "2. The first integer of each row is greater than the last integer of the previous row.\n",
    "3. If the value is there in the matrix return true, else false.\n"
   ]
  },
  {
   "cell_type": "code",
   "execution_count": null,
   "metadata": {},
   "outputs": [],
   "source": [
    "## method 01\n",
    "\n",
    "def search_in_matrix(matrix, target):\n",
    "    if len(matrix) == 0:\n",
    "        return False\n",
    "    \n",
    "    rows = len(matrix)\n",
    "    columns = len(matrix[0])\n",
    "\n",
    "    # Binary search to identify the relevant row\n",
    "    top = 0\n",
    "    bottom = rows - 1\n",
    "\n",
    "    while top <= bottom:\n",
    "        middle_row = (top + bottom) // 2\n",
    "        \n",
    "        # Check if the target is within the range of this row\n",
    "        if target < matrix[middle_row][0]:\n",
    "            bottom = middle_row - 1\n",
    "        elif target > matrix[middle_row][columns - 1]:\n",
    "            top = middle_row + 1\n",
    "        else:\n",
    "            break\n",
    "    \n",
    "    # If we exit the loop, it means the target is not within any row range\n",
    "    if top > bottom:\n",
    "        return False\n",
    "    \n",
    "    # Perform binary search on the identified row\n",
    "    row_to_search = middle_row\n",
    "    left = 0\n",
    "    right = columns - 1\n",
    "\n",
    "    while left <= right:\n",
    "        middle_col = (left + right) // 2\n",
    "\n",
    "        if target == matrix[row_to_search][middle_col]:\n",
    "            return True\n",
    "        elif target < matrix[row_to_search][middle_col]:\n",
    "            right = middle_col - 1\n",
    "        else:\n",
    "            left = middle_col + 1\n",
    "\n",
    "    return False\n",
    "\n",
    "\n"
   ]
  },
  {
   "cell_type": "code",
   "execution_count": null,
   "metadata": {},
   "outputs": [],
   "source": [
    "# Example usage\n",
    "matrix = [\n",
    "    [1, 3, 5, 7],\n",
    "    [10, 11, 16, 20],\n",
    "    [23, 30, 34, 60]\n",
    "]\n",
    "target = 3\n",
    "\n",
    "print(search_in_matrix(matrix, target))  # Output: True"
   ]
  }
 ],
 "metadata": {
  "language_info": {
   "name": "python"
  }
 },
 "nbformat": 4,
 "nbformat_minor": 2
}
