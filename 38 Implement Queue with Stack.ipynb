{
 "cells": [
  {
   "cell_type": "markdown",
   "metadata": {},
   "source": [
    "## Implement Queue with Stack\n",
    "Implement a first in first out (FIFO) queue using only two stacks. The implemented queue should support all the functions of a normal queue (push, peek, pop, and empty).<br>\n",
    "Implement the MyQueue class:<br>\n",
    "1. push(val) Pushes element val to the back of the queue.<br>\n",
    "2. pop() Removes the element from the front of the queue and returns it.<br>\n",
    "3. peek() Returns the element at the front of the queue.<br>\n",
    "4. empty() Returns true if the queue is empty, false otherwise.<br>\n",
    "Notes: You must use only standard operations of a stack, which means only push to top, peek/pop from top, size, and is empty operations are valid. Depending on your language, the stack may not be supported natively. You may simulate a stack using a list or deque (double-ended queue) as long as you use only a stack's standard operations. Follow-up: Implement the queue such that each operation is amortized O(1) time complexity. In other words, performing n operations will take overall O(n) time even if one of those operations may take longer."
   ]
  },
  {
   "cell_type": "code",
   "execution_count": null,
   "metadata": {},
   "outputs": [],
   "source": [
    "class MyQueue:\n",
    "\n",
    "    def __init__(self):\n",
    "        self.inStack = []\n",
    "        self.outStack = []\n",
    "\n",
    "    def push(self, val):\n",
    "        self.inStack.append(val)      \n",
    "        \n",
    "    def pop(self):\n",
    "        if len(self.outStack) == 0:\n",
    "            l = len(self.inStack) -1\n",
    "            for i in range(l, -1, -1):\n",
    "                self.outStack.append(self.inStack[i])\n",
    "            self.inStack = []\n",
    "        \n",
    "        temp = self.outStack[-1]\n",
    "        self.outStack = self.outStack[:-1]\n",
    "        return temp\n",
    "\n",
    "    def peek(self):\n",
    "        if len(self.outStack) == 0:\n",
    "            l = len(self.inStack) -1\n",
    "            for i in range(l, -1, -1):\n",
    "                self.outStack.append(self.inStack[i])\n",
    "            self.inStack = []\n",
    "        return self.outStack[-1]\n",
    "\n",
    "    def empty(self):\n",
    "        if ( len(self.inStack) == 0 and len(self.outStack) == 0 ):\n",
    "            return True\n",
    "        else:\n",
    "            return False\n",
    "        "
   ]
  }
 ],
 "metadata": {
  "language_info": {
   "name": "python"
  }
 },
 "nbformat": 4,
 "nbformat_minor": 2
}
