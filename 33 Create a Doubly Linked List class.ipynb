{
 "cells": [
  {
   "cell_type": "markdown",
   "metadata": {},
   "source": [
    "## Create a Doubly Linked List class. \n",
    "Write Instance Methods for this class to be able to: <br>\n",
    "1.remove a node when the node to be removed is given as Input.<br>\n",
    "2. insert a node before a particular node(both the node to be inserted and the node before which the insertion is to happen will be given as input). If the node to be inserted is <br>\n",
    "-part of the linked list then shift its place to the desired location <br>\n",
    "-a new node, then insert the new node at the place desired."
   ]
  },
  {
   "cell_type": "code",
   "execution_count": null,
   "metadata": {},
   "outputs": [],
   "source": [
    "# Solving part I and II just adding insert method\n",
    "\n",
    "class Node:\n",
    "    def __init__(self, value):\n",
    "        self.val = value\n",
    "        self.next = None\n",
    "        self.prev = None\n",
    "\n",
    "def linkNodes(node1,node2):\n",
    "    node1.next = node2\n",
    "    node2.prev = node1\n",
    "\n",
    "class DoublyLinkedList:\n",
    "    def __init__(self):\n",
    "        self.head = None\n",
    "        self.tail = None\n",
    "\n",
    "    def remove(self, node):\n",
    "        if self.head == node:\n",
    "            self.head = node.next\n",
    "        if self.tail == node:\n",
    "            self.tail = node.prev\n",
    "\n",
    "        if node.prev:\n",
    "            node.prev.next = node.next\n",
    "        if node.next:\n",
    "            node.next.prev = node.prev\n",
    "\n",
    "        node.next = None\n",
    "        node.prev = None\n",
    "\n",
    "    def insertB(self, nodePosition, nodeInsert):\n",
    "        # if there is a single element in DDL\n",
    "        if self.head == nodeInsert and self.tail == nodeInsert:\n",
    "            return\n",
    " \n",
    "        self.remove(nodeInsert)\n",
    "        nodeInsert.prev = nodePosition.prev\n",
    "        nodeInsert.next = nodePosition\n",
    " \n",
    "        if nodePosition == self.head:\n",
    "            self.head = nodeInsert\n",
    "        else:\n",
    "            nodePosition.prev.next = nodeInsert\n",
    "        nodePosition.prev = nodeInsert\n",
    "            \n",
    "            \n"
   ]
  }
 ],
 "metadata": {
  "language_info": {
   "name": "python"
  }
 },
 "nbformat": 4,
 "nbformat_minor": 2
}
