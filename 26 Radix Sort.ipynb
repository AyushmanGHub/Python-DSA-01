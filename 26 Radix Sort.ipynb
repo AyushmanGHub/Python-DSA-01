{
 "cells": [
  {
   "cell_type": "markdown",
   "metadata": {},
   "source": [
    "## Radix Sort\n",
    "You are given an array of non-negative integers. Write a function that will take this array as input and return the sorted array using Radix sort.\n",
    "Radix Sort is a non-comparative, integer-based sorting algorithm that sorts numbers by processing individual digits. It distributes numbers into buckets based on their digits, starting from the least significant digit (LSD) or the most significant digit (MSD), depending on the variation of the algorithm.\n",
    "\n",
    "Time Complexity: O(n+k) ≈ O(n) for fixed digits.\n",
    "\n",
    "Space Complexity: O(n+k) ≈ O(n) for fixed digits."
   ]
  },
  {
   "cell_type": "code",
   "execution_count": null,
   "metadata": {},
   "outputs": [],
   "source": [
    "def radix_sort(array):\n",
    "    \n",
    "    if not array:\n",
    "        return array\n",
    "    max_num = max(array)\n",
    "\n",
    "    while max_num // place > 0:\n",
    "        counting_sort(array, place)\n",
    "        place *= 10\n",
    "\n",
    "    return array\n",
    "\n",
    "\n",
    "def counting_sort(array, place):\n",
    "    n = len(array)\n",
    "    output = [0] * n\n",
    "    \n",
    "    # we are counting occurrences of each digit at given place\n",
    "    for i in range(n):\n",
    "        index = (array[i] // place) % 10\n",
    "        count[index] += 1\n",
    "\n",
    "    #cumulative count to find positions\n",
    "    for i in range(1, 10):\n",
    "        count[i] += count[i - 1]\n",
    "\n",
    "    # putting sorted value in a new array using cout array\n",
    "    count = [0] * 10 \n",
    "    i = n - 1\n",
    "    while i >= 0:\n",
    "        index = (array[i] // place) % 10\n",
    "        output[count[index] - 1] = array[i]\n",
    "        count[index] -= 1\n",
    "        i -= 1\n",
    "\n",
    "    for i in range(n):\n",
    "        array[i] = output[i]\n"
   ]
  }
 ],
 "metadata": {
  "language_info": {
   "name": "python"
  }
 },
 "nbformat": 4,
 "nbformat_minor": 2
}
