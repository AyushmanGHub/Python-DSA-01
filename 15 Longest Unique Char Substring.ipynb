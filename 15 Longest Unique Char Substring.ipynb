{
 "cells": [
  {
   "cell_type": "markdown",
   "metadata": {},
   "source": [
    "## Longest Unique char Substring \n",
    "Given a string s, find the length of the longest substring without repeating characters."
   ]
  },
  {
   "cell_type": "code",
   "execution_count": null,
   "metadata": {},
   "outputs": [],
   "source": [
    "def max_unique_length(str):\n",
    "    dict = {}\n",
    "    l = 0\n",
    "    r = 0\n",
    "    max_str = 0\n",
    "    while( r < len(str)):\n",
    "        if str[r] in dict and dict[str[r]] >= l:\n",
    "            l = dict[str[r]] +  1\n",
    "        dict[str[r]] = r\n",
    "        max_str = max(max_str, (r+1-l))\n",
    "        r += 1\n",
    "        \n",
    "    return max_str\n",
    "        "
   ]
  }
 ],
 "metadata": {
  "language_info": {
   "name": "python"
  }
 },
 "nbformat": 4,
 "nbformat_minor": 2
}
