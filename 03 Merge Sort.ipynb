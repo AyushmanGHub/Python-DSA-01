{
 "cells": [
  {
   "cell_type": "markdown",
   "metadata": {},
   "source": [
    "### Merge Sort\n",
    "Divide and Conquer"
   ]
  },
  {
   "cell_type": "code",
   "execution_count": null,
   "metadata": {},
   "outputs": [],
   "source": [
    "def merge_sort(list1, l, r):    \n",
    "    if l >= r:    \n",
    "        return    \n",
    "    m = (l + r)//2 \n",
    "    merge_sort(list1, l, m)\n",
    "    merge_sort(list1, m + 1, r)    \n",
    "    merge(list1, l, r, m)    \n",
    "\n",
    "def merge(list1, l, r, m):    \n",
    "   # Here, we are creating subparts of a lists    \n",
    "    L = list1[l:m + 1]    \n",
    "    R = list1[m+1:r+1]\n",
    "\n",
    "    l1 = 0    \n",
    "    r1 = 0    \n",
    "    sorted_index = l  \n",
    "    while l1 < len(L) and r1 < len(R):       \n",
    "        if L[l1] <= R[r1]:   \n",
    "            list1[sorted_index] = L[l1]    \n",
    "            l1 += 1    \n",
    "        else:    \n",
    "            list1[sorted_index] = R[r1]    \n",
    "            r1 += 1    \n",
    "        sorted_index = sorted_index + 1    \n",
    "        \n",
    "    while l1 < len(L):\n",
    "        list1[sorted_index] = L[l1]    \n",
    "        l1 +=  1    \n",
    "        sorted_index = sorted_index + 1    \n",
    "\n",
    "    while r1 < len(R):\n",
    "        list1[sorted_index] = R[r1]    \n",
    "        r1 += 1    \n",
    "        sorted_index = sorted_index + 1    \n",
    "  \n",
    "list_1 = [44, 65, -2, 3, 58, 14, -57, -23, 10, 1, 7, -74, 48]\n",
    "print(\"list before sorting :\", list_1)\n",
    "merge_sort(list_1, 0,len(list_1))\n",
    "print(\"list after sorting :\", list_1)\n",
    "\n",
    "list_2 = [5, -122, 23, -7, 19, -34, 21, -11, 8, -29]\n",
    "print(\"list before sorting :\", list_2)\n",
    "merge_sort(list_2, 0, len(list_2))\n",
    "print(\"list after sorting :\", list_2)"
   ]
  }
 ],
 "metadata": {
  "language_info": {
   "name": "python"
  }
 },
 "nbformat": 4,
 "nbformat_minor": 2
}
