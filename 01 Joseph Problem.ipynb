{
 "cells": [
  {
   "cell_type": "markdown",
   "metadata": {},
   "source": [
    "### Joseph Problem\n",
    "The Josephus Problem is named after Flavius Josephus, a Jewish historian who lived during the 1st century. The story behind this mathematical problem is quite dramatic. According to Josephus's account, during the Jewish-Roman war, he and his 40 soldiers were trapped in a cave, surrounded by Roman forces. Preferring suicide to capture, they decided to form a circle and proceed around it, systematically killing every third remaining person until no one was left. Josephus, not wishing to die, quickly figured out where to position himself in the circle so as to be the last survivor. He used this clever strategy to spare his own life, and then surrendered to the Romans. This tale later inspired the Josephus Problem in mathematics, which explores the outcome of this elimination process for different numbers of people and intervals."
   ]
  },
  {
   "cell_type": "code",
   "execution_count": null,
   "metadata": {},
   "outputs": [],
   "source": [
    "def joseph_problem(n,interval):\n",
    "    list_n = list(range(1, n + 1))  \n",
    "    i = interval-1  # Start from the first person in the list\n",
    "\n",
    "    while len(list_n) > 1:\n",
    "        list_n.pop(i)  # Remove the person from the list\n",
    "        i = (i + interval - 1) % len(list_n)  # Calculate the index of the person to be removed\n",
    "\n",
    "    print(list_n)  # The last remaining person\n",
    "joseph_problem(4,3)\n",
    "joseph_problem(8,3)\n",
    "joseph_problem(41,3)"
   ]
  }
 ],
 "metadata": {
  "language_info": {
   "name": "python"
  }
 },
 "nbformat": 4,
 "nbformat_minor": 2
}
