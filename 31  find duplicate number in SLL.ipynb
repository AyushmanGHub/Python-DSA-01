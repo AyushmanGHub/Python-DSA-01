{
 "cells": [
  {
   "cell_type": "markdown",
   "metadata": {},
   "source": [
    "## find duplicate number\n",
    "Given an array of integers nums containing n + 1 integers where each integer is in the range [1, n] inclusive. There is only one repeated number in nums, return this repeated number. You must solve the problem without modifying the array nums and uses only constant extra space."
   ]
  },
  {
   "cell_type": "code",
   "execution_count": null,
   "metadata": {},
   "outputs": [],
   "source": [
    "def getDuplicate(nums):\n",
    "    if not nums:\n",
    "        return None\n",
    "    l = len(nums)\n",
    "    if l == 1:\n",
    "        return None\n",
    "    else:\n",
    "        hare = 0\n",
    "        tortoise = 0\n",
    "        while True:\n",
    "            hare = nums[nums[hare]]\n",
    "            tortoise = nums[tortoise]\n",
    "            if hare == tortoise:\n",
    "                pointer = 0\n",
    "                while pointer != tortoise:\n",
    "                    pointer = nums[pointer]\n",
    "                    tortoise = nums[tortoise]\n",
    "                return pointer\n",
    "    "
   ]
  }
 ],
 "metadata": {
  "language_info": {
   "name": "python"
  }
 },
 "nbformat": 4,
 "nbformat_minor": 2
}
