{
 "cells": [
  {
   "cell_type": "markdown",
   "metadata": {},
   "source": [
    "## Diameter of binary tree\n",
    "Write a function which takes in the root of a binary tree and returns the length of the diameter of the tree. The diameter of a binary tree is the length of the longest path between any two nodes in the tree. It is not necessary for this path to pass through the root of the tree. The length of a path between two nodes is the number of edges between them."
   ]
  },
  {
   "cell_type": "code",
   "execution_count": null,
   "metadata": {},
   "outputs": [],
   "source": [
    "from collections import deque\n",
    " \n",
    "class Node:\n",
    "    def __init__(self, value):\n",
    "        self.value = value\n",
    "        self.left = None\n",
    "        self.right = None\n",
    " \n",
    "class BinaryTree:\n",
    "    def __init__(self):\n",
    "        self.root = None\n",
    " \n",
    "    def insert(self, array):\n",
    "        if len(array) == 0:\n",
    "            return\n",
    "        i = 0\n",
    "        if self.root is None:\n",
    "            if array[0] is None:\n",
    "                return\n",
    "            else:\n",
    "                node = Node(array[0])\n",
    "                self.root = node\n",
    "                i += 1\n",
    "                if i == len(array):\n",
    "                    return self\n",
    " \n",
    "        queue = deque([self.root])\n",
    "        while queue:\n",
    "            current = queue.popleft()\n",
    "            if current.left is None:\n",
    "                if array[i] is not None:\n",
    "                    node = Node(array[i])\n",
    "                    current.left = node\n",
    "                i += 1\n",
    "                if i == len(array):\n",
    "                    return self\n",
    "            if current.left is not None:\n",
    "                queue.append(current.left)\n",
    "            if current.right is None:\n",
    "                if array[i] is not None:\n",
    "                    node = Node(array[i])\n",
    "                    current.right = node\n",
    "                i += 1\n",
    "                if i == len(array):\n",
    "                    return self\n",
    "            if current.right is not None:\n",
    "                queue.append(current.right)\n",
    " \n",
    "def diameterBinaryTree(root):\n",
    "    if not root:\n",
    "        return 0\n",
    "    maxDiameter = 0\n",
    "    def dfs(node):\n",
    "        nonlocal maxDiameter\n",
    "        if not node:\n",
    "            return -1\n",
    "        leftHeight = dfs(node.left)\n",
    "        rightHeight = dfs(node.right)\n",
    "        diameter = leftHeight + rightHeight + 2\n",
    "        maxDiameter = max(maxDiameter, diameter)\n",
    "        return max(leftHeight, rightHeight) + 1\n",
    "    dfs(root)\n",
    "    return maxDiameter\n",
    " \n"
   ]
  },
  {
   "cell_type": "code",
   "execution_count": null,
   "metadata": {},
   "outputs": [],
   "source": [
    "tree = BinaryTree()\n",
    "tree.insert([1, 3, 2, 7, 4, None, None, 8, None, None, 5, 9, None, None, 6])\n",
    "print(diameterBinaryTree(tree.root))"
   ]
  }
 ],
 "metadata": {
  "language_info": {
   "name": "python"
  }
 },
 "nbformat": 4,
 "nbformat_minor": 2
}
