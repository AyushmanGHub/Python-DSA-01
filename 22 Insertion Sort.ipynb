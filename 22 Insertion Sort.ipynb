{
 "cells": [
  {
   "cell_type": "markdown",
   "metadata": {},
   "source": [
    "## Insertion Sort \n",
    "You are given an array of integers. Write a function that will take this array as input and return the sorted array using Insertion sort.\n",
    "\n",
    "The algorithm builds the sorted array one element at a time by repeatedly picking the next element and inserting it into the correct position among the already sorted elements. Starting from the second element, it compares the element with all the previous elements and inserts it into the correct position by shifting elements if necessary."
   ]
  },
  {
   "cell_type": "code",
   "execution_count": null,
   "metadata": {},
   "outputs": [],
   "source": [
    "def insertion_sort(a):\n",
    "    for i in range(1, len(a)):\n",
    "        key = a[i]\n",
    "        j = i - 1\n",
    "        while j >= 0 and key < a[j]:\n",
    "            a[j + 1] = a[j]\n",
    "            j -= 1\n",
    "        a[j + 1] = key\n",
    "\n",
    "    return a"
   ]
  },
  {
   "cell_type": "code",
   "execution_count": null,
   "metadata": {},
   "outputs": [],
   "source": [
    "# Example usage\n",
    "array = [12, 11, 13, 5, 6]\n",
    "sorted_array = insertion_sort(array)\n",
    "print(\"Sorted array:\", sorted_array)"
   ]
  }
 ],
 "metadata": {
  "language_info": {
   "name": "python"
  }
 },
 "nbformat": 4,
 "nbformat_minor": 2
}
