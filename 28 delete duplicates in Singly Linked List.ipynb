{
 "cells": [
  {
   "cell_type": "markdown",
   "metadata": {},
   "source": [
    "## Delete duplicates \n",
    "You are given the head of a Sorted Singly Linked list. Write a function that will take the given head as input, delete all nodes that have a value that is already the value of another node so that each value appears 1 time only and return the linked list, which is still to be a sorted linked list."
   ]
  },
  {
   "cell_type": "code",
   "execution_count": null,
   "metadata": {},
   "outputs": [],
   "source": [
    "class Node:\n",
    "    def __init__(self, value):\n",
    "        self.val = value\n",
    "        self.next = None\n",
    "\n",
    "def removeDupes(head):\n",
    "    current_node = head\n",
    "    while current_node:\n",
    "        next_node = current_node.next\n",
    "        while next_node and current_node.val == next_node.val:\n",
    "            next_node = next_node.next\n",
    "        current_node.next = next_node\n",
    "        current_node = current_node.next\n",
    "    \n",
    "    return head\n"
   ]
  }
 ],
 "metadata": {
  "language_info": {
   "name": "python"
  }
 },
 "nbformat": 4,
 "nbformat_minor": 2
}
