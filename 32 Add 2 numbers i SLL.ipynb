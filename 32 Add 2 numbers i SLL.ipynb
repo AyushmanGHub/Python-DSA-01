{
 "cells": [
  {
   "cell_type": "markdown",
   "metadata": {},
   "source": [
    "## Add 2 numbers\n",
    "You are given two non-empty linked lists representing two non-negative integers. The digits are stored in reverse order, and each of their nodes contains a single digit. Add the two numbers and return the sum as a linked list. You may assume the two numbers do not contain any leading zero, except the number 0 itself. 0<=Node value<=9"
   ]
  },
  {
   "cell_type": "code",
   "execution_count": null,
   "metadata": {},
   "outputs": [],
   "source": [
    "class Node:\n",
    "    def __init__(self, value):\n",
    "        self.value = value\n",
    "        self.next = None\n",
    "\n",
    "class LinkedList:\n",
    "    def __init__(self):\n",
    "        self.head = None\n",
    "        self.tail = None\n",
    "        self.size = 0\n",
    "\n",
    "    def addAtTail(self, value):\n",
    "        node = Node(value)\n",
    "        if not self.head:\n",
    "            self.head = node\n",
    "            self.tail = self.head\n",
    "        else:\n",
    "            self.tail.next = node\n",
    "            self.tail = node\n",
    "        self.size += 1\n",
    "        return self\n",
    "\n",
    "def add2Numbers(l1, l2):\n",
    "    #write your code here\n",
    "    ans = LinkedList()\n",
    "    carry_forward = 0\n",
    "    \n",
    "    while l1 or l2 or carry_forward:\n",
    "        c1 = l1.value if l1 else 0\n",
    "        c2 = l2.value if l2 else 0\n",
    "        \n",
    "        sum = (c1 + c2 + carry_forward) \n",
    "        ans.addAtTail(sum % 10)\n",
    "        \n",
    "        carry_forward = sum // 10\n",
    "        l1 = l1.next if l1 else 0\n",
    "        l2 = l2.next if l2 else 0\n",
    "    return ans"
   ]
  }
 ],
 "metadata": {
  "language_info": {
   "name": "python"
  }
 },
 "nbformat": 4,
 "nbformat_minor": 2
}
