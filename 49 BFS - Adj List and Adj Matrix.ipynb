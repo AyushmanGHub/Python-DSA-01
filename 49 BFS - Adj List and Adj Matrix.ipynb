{
 "cells": [
  {
   "cell_type": "markdown",
   "metadata": {},
   "source": [
    "## BFS - Adj List and Adj Matrix\n",
    "You are given an undirected graph stored<br>\n",
    "as an adjacency list<br>\n",
    "as an adjacency Matrix.<br>\n",
    "Write functions to traverse this graph using the Breadth first Search approach. As you traverse the graph store the values of the vertices in an array and return this array."
   ]
  },
  {
   "cell_type": "code",
   "execution_count": 1,
   "metadata": {},
   "outputs": [
    {
     "name": "stdout",
     "output_type": "stream",
     "text": [
      "['A', 'B', 'F', 'C', 'E', 'D']\n"
     ]
    }
   ],
   "source": [
    "# as an Adjacency list\n",
    "# time complexity of O(V + E)\n",
    "# space complexity is O(V)\n",
    "adjacency_list = {\n",
    "    'A': ['B', 'F'],\n",
    "    'B': ['A', 'F', 'C'],\n",
    "    'C': ['B', 'E', 'D'],\n",
    "    'D': ['C', 'E'],\n",
    "    'E': ['D', 'C', 'F'],\n",
    "    'F': ['A', 'B', 'E']\n",
    "}\n",
    " \n",
    "def travBFS(graph, start):\n",
    "    visited = {} # to keep track of visited nodes\n",
    "    queue = [start] # queue to process nodes\n",
    "    output = [] # list to save the traversal order\n",
    "    visited[start] = True\n",
    " \n",
    "    while len(queue) > 0:\n",
    "        current = queue.pop(0)\n",
    "        output.append(current)\n",
    " \n",
    "        neighbours = graph[current]\n",
    "        for neighbour in neighbours:\n",
    "            if neighbour not in visited:\n",
    "                queue.append(neighbour)\n",
    "                visited[neighbour] = True\n",
    " \n",
    "    return output\n",
    "\n",
    "ans = travBFS(adjacency_list, \"A\")\n",
    "print(ans)"
   ]
  },
  {
   "cell_type": "code",
   "execution_count": 2,
   "metadata": {},
   "outputs": [
    {
     "name": "stdout",
     "output_type": "stream",
     "text": [
      "['A', 'B', 'F', 'C', 'E', 'D']\n",
      "['C', 'B', 'D', 'E', 'A', 'F']\n"
     ]
    }
   ],
   "source": [
    "# # as an Adjacency matrix\n",
    "# time complexity of O(V^2)\n",
    "# space complexity is O(V)\n",
    "\n",
    "vertices = ['A', 'B', 'C', 'D', 'E', 'F']\n",
    "vertex_indices = { 'A': 0, 'B': 1, 'C': 2, 'D': 3, 'E': 4, 'F': 5 }\n",
    " \n",
    "# The adjacency matrix\n",
    "adjacency_matrix = [\n",
    "    [0, 1, 0, 0, 0, 1],\n",
    "    [1, 0, 1, 0, 0, 1],\n",
    "    [0, 1, 0, 1, 1, 0],\n",
    "    [0, 0, 1, 0, 1, 0],\n",
    "    [0, 0, 1, 1, 0, 1],\n",
    "    [1, 1, 0, 0, 1, 0]\n",
    "]\n",
    " \n",
    "def travBFS(graph, start):\n",
    "    visited = {}\n",
    "    queue = [start]\n",
    "    output = []\n",
    "    visited[start] = True\n",
    " \n",
    "    while len(queue) > 0:\n",
    "        current = queue.pop(0)\n",
    "        output.append(current)\n",
    "        current_idx = vertex_indices[current]\n",
    " \n",
    "        neighbours = graph[current_idx]\n",
    "        for i in range(len(neighbours)):\n",
    "            if neighbours[i] == 1 and vertices[i] not in visited:\n",
    "                queue.append(vertices[i])\n",
    "                visited[vertices[i]] = True\n",
    " \n",
    "    return output\n",
    "\n",
    "ans = travBFS(adjacency_matrix, \"A\")\n",
    "print(ans)\n",
    "\n",
    "ans = travBFS(adjacency_matrix, \"C\")\n",
    "print(ans)"
   ]
  }
 ],
 "metadata": {
  "kernelspec": {
   "display_name": "Python 3",
   "language": "python",
   "name": "python3"
  },
  "language_info": {
   "codemirror_mode": {
    "name": "ipython",
    "version": 3
   },
   "file_extension": ".py",
   "mimetype": "text/x-python",
   "name": "python",
   "nbconvert_exporter": "python",
   "pygments_lexer": "ipython3",
   "version": "3.12.5"
  }
 },
 "nbformat": 4,
 "nbformat_minor": 2
}
