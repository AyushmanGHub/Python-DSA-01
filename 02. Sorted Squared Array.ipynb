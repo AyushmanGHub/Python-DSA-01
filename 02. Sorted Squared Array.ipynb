{
 "cells": [
  {
   "cell_type": "markdown",
   "metadata": {},
   "source": [
    "### Sorted Squared Array \n",
    "You are given an array of Integers in which each subsequent value is not less than the previous value. Write a function that takes this array as an input and returns a new array with the squares of each number sorted in ascending order."
   ]
  },
  {
   "cell_type": "code",
   "execution_count": 1,
   "metadata": {},
   "outputs": [
    {
     "name": "stdout",
     "output_type": "stream",
     "text": [
      "[4, 25, 49, 64, 121, 144, 361, 529, 841, 1156]\n",
      "[4, 25, 49, 49, 121, 144, 361, 529, 841, 1156]\n"
     ]
    }
   ],
   "source": [
    "def sq_sort(a):\n",
    "    sq_a = list( i**2 for i in a)\n",
    "    return sorted(sq_a)\n",
    "\n",
    "a = [5, -12, 23, -7, 19, -34, 2, -11, 8, -29]\n",
    "print(sq_sort(a))\n",
    "\n",
    "b = [5, -12, 23, -7, 19, -34, 2, -11, 7, -29]\n",
    "print(sq_sort(b))"
   ]
  }
 ],
 "metadata": {
  "kernelspec": {
   "display_name": "Python 3",
   "language": "python",
   "name": "python3"
  },
  "language_info": {
   "codemirror_mode": {
    "name": "ipython",
    "version": 3
   },
   "file_extension": ".py",
   "mimetype": "text/x-python",
   "name": "python",
   "nbconvert_exporter": "python",
   "pygments_lexer": "ipython3",
   "version": "3.12.5"
  }
 },
 "nbformat": 4,
 "nbformat_minor": 2
}
