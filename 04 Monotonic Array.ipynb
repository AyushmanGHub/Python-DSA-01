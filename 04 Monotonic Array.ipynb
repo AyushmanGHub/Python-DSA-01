{
 "cells": [
  {
   "cell_type": "markdown",
   "metadata": {},
   "source": [
    "### Monotonic Array\n",
    "An array is monotonic if it is either monotone increasing or monotone decreasing. An array is monotone increasing if all its elements from left to right are non-decreasing. An array is monotone decreasing if all  its elements from left to right are non-increasing. Given an integer array return true if the given array is monotonic, or false otherwise."
   ]
  },
  {
   "cell_type": "code",
   "execution_count": 2,
   "metadata": {},
   "outputs": [],
   "source": [
    "def is_monotonic(a):\n",
    "    if a[0] >= a[-1]:\n",
    "        for i in range(2,len(a)-1):\n",
    "            if a[i] < a[i+1]:\n",
    "                return (False)\n",
    "    \n",
    "    if a[-1] >= a[0]:\n",
    "        for i in range(2,len(a)-1):\n",
    "            if a[i] > a[i+1]:\n",
    "                return (False)\n",
    "    return(True)"
   ]
  },
  {
   "cell_type": "code",
   "execution_count": 3,
   "metadata": {},
   "outputs": [
    {
     "name": "stdout",
     "output_type": "stream",
     "text": [
      "[-122, -34, -29, -11, -7, 5, 8, 19, 21, 23] is monotonic True\n",
      "[5, -122, 23, -7, 19, -34, 21, -11, 8, -29] is monotonic False\n"
     ]
    }
   ],
   "source": [
    "list_1 = [-122, -34, -29, -11, -7, 5, 8, 19, 21, 23]\n",
    "print(list_1, \"is monotonic\",is_monotonic(list_1))\n",
    "\n",
    "list_2 = [5, -122, 23, -7, 19, -34, 21, -11, 8, -29]\n",
    "print(list_2, \"is monotonic\",is_monotonic(list_2))"
   ]
  }
 ],
 "metadata": {
  "kernelspec": {
   "display_name": "Python 3",
   "language": "python",
   "name": "python3"
  },
  "language_info": {
   "codemirror_mode": {
    "name": "ipython",
    "version": 3
   },
   "file_extension": ".py",
   "mimetype": "text/x-python",
   "name": "python",
   "nbconvert_exporter": "python",
   "pygments_lexer": "ipython3",
   "version": "3.12.5"
  }
 },
 "nbformat": 4,
 "nbformat_minor": 2
}
