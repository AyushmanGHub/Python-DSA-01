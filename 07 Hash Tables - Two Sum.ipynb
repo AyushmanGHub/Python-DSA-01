{
 "cells": [
  {
   "cell_type": "markdown",
   "metadata": {},
   "source": [
    "# Hash Tables \n",
    "## Two Sum \n",
    "You are given an array of Integers and another integer targetValue. Write a function that will take these inputs and return the indices of the 2 integers in the array that add up targetValue."
   ]
  },
  {
   "cell_type": "code",
   "execution_count": null,
   "metadata": {},
   "outputs": [],
   "source": [
    "def two_sum(a, target):\n",
    "    dict = {}\n",
    "    if not a or len(a) == 1:\n",
    "        return ([])\n",
    "    for i in range(len(a)):\n",
    "        l = target - a[i]\n",
    "        if l in dict:\n",
    "            j = dict[l]\n",
    "            dict[i]=a[i]\n",
    "            return (j,i)\n",
    "        else:\n",
    "            dict[a[i]]=i\n",
    "    return ([])\n",
    "\n",
    "        \n"
   ]
  }
 ],
 "metadata": {
  "language_info": {
   "name": "python"
  }
 },
 "nbformat": 4,
 "nbformat_minor": 2
}
