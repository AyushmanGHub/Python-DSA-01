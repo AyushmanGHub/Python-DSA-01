{
 "cells": [
  {
   "cell_type": "markdown",
   "metadata": {},
   "source": [
    "## Merge Sort\n",
    "You are given an array of integers. Write a function that will take this array as input and return the sorted array using Merge sort."
   ]
  },
  {
   "cell_type": "code",
   "execution_count": null,
   "metadata": {},
   "outputs": [],
   "source": [
    "def merge_sort(a):\n",
    "    if len(a) > 1:\n",
    "        m = len(a) // 2\n",
    "        l = a[:m]\n",
    "        r = a[m:]\n",
    "        \n",
    "        merge_sort(l)\n",
    "        merge_sort(r)\n",
    "\n",
    "        i = j = k = 0\n",
    "        while i < len(l) and j < len(r):\n",
    "            if l[i] < r[j]:\n",
    "                a[k] = l[i]\n",
    "                i += 1\n",
    "            else:\n",
    "                a[k] = r[j]\n",
    "                j += 1\n",
    "            k += 1\n",
    "\n",
    "        #if element was left\n",
    "        while i < len(l):\n",
    "            a[k] = l[i]\n",
    "            i += 1\n",
    "            k += 1\n",
    "\n",
    "        while j < len(r):\n",
    "            a[k] = r[j]\n",
    "            j += 1\n",
    "            k += 1\n",
    "\n",
    "    return a\n",
    "\n",
    "\n"
   ]
  },
  {
   "cell_type": "code",
   "execution_count": null,
   "metadata": {},
   "outputs": [],
   "source": [
    "a = [38, 27, 43, 3, 9, 82, 10]\n",
    "print(a)\n",
    "print(\"Sorted array:\", merge_sort(a))"
   ]
  }
 ],
 "metadata": {
  "language_info": {
   "name": "python"
  }
 },
 "nbformat": 4,
 "nbformat_minor": 2
}
