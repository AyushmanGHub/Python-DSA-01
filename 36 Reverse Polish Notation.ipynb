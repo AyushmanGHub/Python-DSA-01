{
 "cells": [
  {
   "cell_type": "markdown",
   "metadata": {},
   "source": [
    "## Reverse Polish Notation\n",
    "Evaluate the value of an arithmetic expression in Reverse Polish Notation(See example). Valid operators are +, -, *, and /. <br>\n",
    "Note that division between two integers should truncate toward zero. It is guaranteed that the given RPN expression is always valid. That means the expression would always evaluate to a result, and there will not be any division by zero operation. The Input is an array of strings where each element is either a valid operator or an integer. E.g.[“1”,”2”,”+”]"
   ]
  },
  {
   "cell_type": "code",
   "execution_count": null,
   "metadata": {},
   "outputs": [],
   "source": [
    "def rev_pol_not(tokens):\n",
    "    stack = []\n",
    "    #write your code here\n",
    "    for i in tokens:\n",
    "        if i == \"+\":\n",
    "            n1 = stack.pop()\n",
    "            n2 = stack.pop()\n",
    "            stack.append(n1 + n2)\n",
    "        elif i == \"-\":\n",
    "            n1 = stack.pop()\n",
    "            n2 = stack.pop()\n",
    "            stack.append(n2 - n1)\n",
    "        elif i == \"*\":\n",
    "            n1 = stack.pop()\n",
    "            n2 = stack.pop()\n",
    "            stack.append(n1 * n2)\n",
    "        elif i ==\"/\":\n",
    "            n1 = stack.pop()\n",
    "            n2 = stack.pop()\n",
    "            stack.append(int(n2 / n1))\n",
    "        else:\n",
    "            stack.append(int(i))\n",
    "    \n",
    "    return stack.pop()\n"
   ]
  }
 ],
 "metadata": {
  "language_info": {
   "name": "python"
  }
 },
 "nbformat": 4,
 "nbformat_minor": 2
}
