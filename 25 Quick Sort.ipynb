{
 "cells": [
  {
   "cell_type": "markdown",
   "metadata": {},
   "source": [
    "## Quick Sort\n",
    "You are given an array of integers. Write a function that will take this array as input and return the sorted array using Quick sort."
   ]
  },
  {
   "cell_type": "code",
   "execution_count": null,
   "metadata": {},
   "outputs": [],
   "source": [
    "def swap(a, i, j):\n",
    "    a[i], a[j] = a[j], a[i]\n",
    "\n",
    "def partition(a, l = 0, r = None):\n",
    "    if r == None:\n",
    "        r = len(a) - 1\n",
    "    \n",
    "    m = ( l+ r ) // 2\n",
    "    swap(a, m, l)\n",
    "    \n",
    "    pivot = a[l]\n",
    "    i = l + 1\n",
    "    j = r\n",
    "    \n",
    "    while j >= i:\n",
    "        while j >= i and a[i] <= pivot:\n",
    "            i += 1\n",
    "        while j >= i and a[j] > pivot:\n",
    "            j -= 1\n",
    "        if i < j:\n",
    "            swap(a, i, j)\n",
    "    swap(a, l, j)\n",
    "    return j\n",
    "    \n",
    "\n",
    "def quick_sort(a, start=0, end=None):\n",
    "    if end == None:\n",
    "        end = len(a) - 1\n",
    "        \n",
    "    if end > start:\n",
    "        pivot_index = partition(a, start, end)\n",
    "        quick_sort(a, start, pivot_index - 1)\n",
    "        quick_sort(a, pivot_index + 1, end)\n",
    "        \n",
    "# time complexity = O(nlogn), worst case= O(n^2)\n",
    "# space complexity = O(logn)"
   ]
  }
 ],
 "metadata": {
  "language_info": {
   "name": "python"
  }
 },
 "nbformat": 4,
 "nbformat_minor": 2
}
