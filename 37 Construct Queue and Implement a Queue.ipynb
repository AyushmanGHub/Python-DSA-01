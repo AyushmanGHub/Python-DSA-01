{
 "cells": [
  {
   "cell_type": "markdown",
   "metadata": {},
   "source": [
    "## Construct Queue and Implement a Queue:\n",
    "1. Using an Array <br>\n",
    "2. with a Queue class using a Linked list <br>\n",
    "One should be able to add to the queue and remove from the queue following the FIFO property."
   ]
  },
  {
   "cell_type": "code",
   "execution_count": null,
   "metadata": {},
   "outputs": [],
   "source": [
    "class Node:\n",
    "    def __init__(self, value):\n",
    "        self.value = value\n",
    "        self.next = None\n",
    "\n",
    "class QueueLinkedList:\n",
    "    def __init__(self):\n",
    "        self.first = None\n",
    "        self.last = None\n",
    "        self.size = 0\n",
    "\n",
    "    def enqueue(self, value):\n",
    "        new_node = Node(value)\n",
    "        if self.size == 0:\n",
    "            self.first = new_node\n",
    "            self.last = new_node\n",
    "            self.size += 1\n",
    "        else:\n",
    "            temp = self.last\n",
    "            self.last = new_node\n",
    "            new_node.next = None\n",
    "            temp.next = new_node\n",
    "            self.size += 1\n",
    "            \n",
    "\n",
    "    def dequeue(self):\n",
    "        if self.size == 0:\n",
    "            return\n",
    "        else:\n",
    "            temp = self.first\n",
    "            self.first = self.first.next\n",
    "            temp.next = None\n",
    "            self.size -= 1\n",
    "            if self.size == 0:\n",
    "                self.last = None\n",
    "            return temp.value\n",
    "        #return the value of the removed node\n"
   ]
  }
 ],
 "metadata": {
  "language_info": {
   "name": "python"
  }
 },
 "nbformat": 4,
 "nbformat_minor": 2
}
