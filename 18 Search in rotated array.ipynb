{
 "cells": [
  {
   "cell_type": "markdown",
   "metadata": {},
   "source": [
    "## Search in Rotated Sorted array\n",
    "You are given an integer array nums sorted in ascending order (with distinct values). Prior to being passed to your function, nums is possibly rotated at an unknown pivot index k (1 <= k < nums.length) such that the resulting array is [nums[k], nums[k+1], ..., nums[n-1], nums[0], nums[1], ..., nums[k-1]] (0-indexed).  For example, [0,1,2,4,5,6,7] might be rotated at pivot index 3 and become [4,5,6,7,0,1,2]. Given an integer target, return the index of target if it is in the array, else return -1. You must write an algorithm with O(log n) runtime complexity."
   ]
  },
  {
   "cell_type": "code",
   "execution_count": null,
   "metadata": {},
   "outputs": [],
   "source": [
    "def search_rotated_sorted_array(li,target):\n",
    "    l = 0\n",
    "    r = len(li) - 1\n",
    "    \n",
    "    if not li:\n",
    "        return -1\n",
    "    elif r == 0 and li[0] != target:\n",
    "        return -1\n",
    "    \n",
    "    def binary(li,target,l,r):\n",
    "        if l > r:\n",
    "            return -1\n",
    "        p = ( l + r) // 2\n",
    "\n",
    "        if li[p] == target:\n",
    "           return p\n",
    "        elif li[p] < target:\n",
    "            return binary(li, target,p+1,r)\n",
    "        else:\n",
    "            return binary(li, target, l, p-1)\n",
    "        \n",
    "    def explore(li,target,l,r):\n",
    "        if l > r:\n",
    "            return -1\n",
    "        p = ( l + r) // 2\n",
    "\n",
    "        if li[p] == target:\n",
    "           return p\n",
    "        elif li[l] <= li[p]:\n",
    "            if li[l] <= target and target < li[p]:\n",
    "                return binary(li, target, l, p)\n",
    "            else:\n",
    "                return explore(li, target, p+1, r)\n",
    "        else:\n",
    "            if li[p] < target and target <= li[r]:\n",
    "                return binary(li, target, p+1, r)\n",
    "            else:\n",
    "                return explore(li, target ,l, p)\n",
    "            \n",
    "    return explore(li,target,l,r)\n",
    "    \n",
    "    "
   ]
  }
 ],
 "metadata": {
  "language_info": {
   "name": "python"
  }
 },
 "nbformat": 4,
 "nbformat_minor": 2
}
