{
 "cells": [
  {
   "cell_type": "markdown",
   "metadata": {},
   "source": [
    "## Reverse SLL\n",
    "You are given the head of a Singly Linked list. Write a function that will take the given head as input, reverse the Linked List and return the new head of the reversed Linked List."
   ]
  },
  {
   "cell_type": "code",
   "execution_count": null,
   "metadata": {},
   "outputs": [],
   "source": [
    "class Node:\n",
    "    def __init__(self, value):\n",
    "        self.value = value\n",
    "        self.next = None\n",
    "\n",
    "def reverseLinkedList(head):\n",
    "    #write code here\n",
    "    if not head:\n",
    "        return None\n",
    "    previous = None\n",
    "    current = head\n",
    "    \n",
    "    while current:\n",
    "        after = current.next  \n",
    "        current.next = previous\n",
    "        previous = current  \n",
    "        current = after \n",
    "    return previous  "
   ]
  }
 ],
 "metadata": {
  "language_info": {
   "name": "python"
  }
 },
 "nbformat": 4,
 "nbformat_minor": 2
}
