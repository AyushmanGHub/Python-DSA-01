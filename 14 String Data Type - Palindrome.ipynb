{
 "cells": [
  {
   "cell_type": "markdown",
   "metadata": {},
   "source": [
    "## Palindrome\n",
    "You are given a string. Write a function to check whether the string is a palindrome or not."
   ]
  },
  {
   "cell_type": "code",
   "execution_count": null,
   "metadata": {},
   "outputs": [],
   "source": [
    "def is_palindrome(s):\n",
    "    if not s:\n",
    "        return True\n",
    "    if len(s)==1:\n",
    "        return True\n",
    "    l = 0\n",
    "    r = len(s) - 1\n",
    "    while(r > l):\n",
    "        if s[r] != s[l]:\n",
    "            return False\n",
    "        r -= 1\n",
    "        l += 1\n",
    "    return True"
   ]
  }
 ],
 "metadata": {
  "language_info": {
   "name": "python"
  }
 },
 "nbformat": 4,
 "nbformat_minor": 2
}
