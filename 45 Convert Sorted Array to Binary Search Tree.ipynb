{
 "cells": [
  {
   "cell_type": "markdown",
   "metadata": {},
   "source": [
    "## Convert Sorted Array to Binary Search Tree\n",
    "You are given an array where the elements are strictly in increasing (ascending) order, convert it to a height-balanced binary search tree. A height-balanced binary tree is a binary tree in which the depth of the two subtrees of every node does not differ by more than 1."
   ]
  },
  {
   "cell_type": "code",
   "execution_count": 3,
   "metadata": {},
   "outputs": [],
   "source": [
    "\n",
    "from collections import deque\n",
    "class Node:\n",
    "    def __init__(self, value):\n",
    "        self.value = value\n",
    "        self.left = None\n",
    "        self.right = None\n",
    " \n",
    "def buildBSTfromSortedArray(nums, left=0, right=None):\n",
    "    if right is None:\n",
    "        right = len(nums) - 1\n",
    "\n",
    "    if left > right: \n",
    "        return None\n",
    "\n",
    "    middle = (left + right) // 2 \n",
    "    node = Node(nums[middle])  \n",
    " \n",
    "    node.left = buildBSTfromSortedArray(nums, left, middle - 1)\n",
    "    node.right = buildBSTfromSortedArray(nums, middle + 1, right)\n",
    " \n",
    "    return node\n",
    "\n",
    "## we are just running the algorithm\n",
    "def level_order_traversal(root):\n",
    "    if root is None:  \n",
    "        return []\n",
    "    \n",
    "    output = []\n",
    "    queue = deque([root])\n",
    "    while queue:\n",
    "        l = len(queue)\n",
    "        count = 0\n",
    "        curr_lev_val = []\n",
    "        while(count < l):\n",
    "            current = queue.popleft()\n",
    "            curr_lev_val.append(current.value)\n",
    "            if current.left:\n",
    "                queue.append(current.left)\n",
    "            if current.right:\n",
    "                queue.append(current.right)\n",
    "            count += 1\n",
    "        \n",
    "        output.append(curr_lev_val)\n",
    "    return output  "
   ]
  },
  {
   "cell_type": "code",
   "execution_count": 4,
   "metadata": {},
   "outputs": [
    {
     "name": "stdout",
     "output_type": "stream",
     "text": [
      "[[9], [4, 14], [1, 6, 11, 17], [0, 2, 5, 7, 10, 12, 15, 18], [3, 8, 13, 16, 19]]\n"
     ]
    }
   ],
   "source": [
    "nums = range(0,20)\n",
    "print(level_order_traversal(buildBSTfromSortedArray(nums)))"
   ]
  }
 ],
 "metadata": {
  "kernelspec": {
   "display_name": "Python 3",
   "language": "python",
   "name": "python3"
  },
  "language_info": {
   "codemirror_mode": {
    "name": "ipython",
    "version": 3
   },
   "file_extension": ".py",
   "mimetype": "text/x-python",
   "name": "python",
   "nbconvert_exporter": "python",
   "pygments_lexer": "ipython3",
   "version": "3.12.5"
  }
 },
 "nbformat": 4,
 "nbformat_minor": 2
}
