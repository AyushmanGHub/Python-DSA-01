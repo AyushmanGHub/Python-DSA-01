{
 "cells": [
  {
   "cell_type": "markdown",
   "metadata": {},
   "source": [
    "## Selection Sort\n",
    "You are given an array of integers. Write a function that will take this array as input and return the sorted array using Selection sort.\n",
    "\n"
   ]
  },
  {
   "cell_type": "code",
   "execution_count": null,
   "metadata": {},
   "outputs": [],
   "source": [
    "def selection_sort(nums):\n",
    "    l = len(nums)\n",
    "    \n",
    "    for i in range(l-1):\n",
    "        j = i + 1\n",
    "        while( j < l):\n",
    "            if nums[i] > nums[j]:\n",
    "                temp = nums[i]\n",
    "                nums[i] = nums[j]\n",
    "                nums[j] = temp\n",
    "            j += 1\n",
    "    \n",
    "    return nums"
   ]
  }
 ],
 "metadata": {
  "language_info": {
   "name": "python"
  }
 },
 "nbformat": 4,
 "nbformat_minor": 2
}
