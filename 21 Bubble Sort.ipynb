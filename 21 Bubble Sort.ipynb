{
 "cells": [
  {
   "cell_type": "markdown",
   "metadata": {},
   "source": [
    "## Bubble Sort \n",
    "You are given an array of integers. Write a function that will take this array as input and return the sorted array using Bubble sort.\n",
    "\n",
    "The algorithm works by repeatedly swapping adjacent elements if they are in the wrong order.This process is repeated until the list is sorted.After each pass through the array, the next largest element is placed in its correct position, so the number of elements to be checked decreases with each pass."
   ]
  },
  {
   "cell_type": "code",
   "execution_count": null,
   "metadata": {},
   "outputs": [],
   "source": [
    "def bubble_sort(a):\n",
    "    n = len(a)\n",
    "    for i in range(n):\n",
    "        for j in range(0, n-i-1):\n",
    "            if a[j] > a[j+1]:\n",
    "                a[j], a[j+1] = a[j+1], a[j]\n",
    "    return a\n"
   ]
  },
  {
   "cell_type": "code",
   "execution_count": null,
   "metadata": {},
   "outputs": [],
   "source": [
    "# Example usage\n",
    "array = [64, 34, 25, 12, 22, 11, 90]\n",
    "sorted_array = bubble_sort(array)\n",
    "print(\"Sorted array:\", sorted_array)"
   ]
  }
 ],
 "metadata": {
  "language_info": {
   "name": "python"
  }
 },
 "nbformat": 4,
 "nbformat_minor": 2
}
