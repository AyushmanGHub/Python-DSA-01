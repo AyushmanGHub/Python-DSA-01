{
 "cells": [
  {
   "cell_type": "markdown",
   "metadata": {},
   "source": [
    "## Binary Search \n",
    "Given an array of integers which is sorted in ascending order, and a target integer, write a function to search for whether the target integer is there in the given array. If it is there then return its index. Otherwise, return -1. You must write an algorithm with O(log n) runtime complexity. \n"
   ]
  },
  {
   "cell_type": "code",
   "execution_count": null,
   "metadata": {},
   "outputs": [],
   "source": [
    "def binary_search(li,target):\n",
    "    l = 0\n",
    "    r = len(li) - 1\n",
    "    \n",
    "    if not li:\n",
    "        return -1\n",
    "    elif r == 0 and li[0] != target:\n",
    "        return -1\n",
    "    \n",
    "    def binary(li,target,l,r):\n",
    "        if l > r:\n",
    "            return -1\n",
    "        p = ( l + r) // 2\n",
    "\n",
    "        if li[p] == target:\n",
    "           return p\n",
    "        elif li[p] <= target:\n",
    "            return binary(li, target,p+1,r)\n",
    "        else:\n",
    "            return binary(li, target, l, p-1)\n",
    "            \n",
    "    return binary(li,target,l,r)\n",
    "    "
   ]
  }
 ],
 "metadata": {
  "language_info": {
   "name": "python"
  }
 },
 "nbformat": 4,
 "nbformat_minor": 2
}
