{
 "cells": [
  {
   "cell_type": "markdown",
   "metadata": {},
   "source": [
    "\n",
    "## Find First and Last Position of Element in Sorted Array \n",
    "You are given an array of integers sorted in non-decreasing order, find the starting and ending position of a given target value. If target is not found in the array, return [-1, -1]. You must write an algorithm with O(log n) runtime complexity\n"
   ]
  },
  {
   "cell_type": "code",
   "execution_count": null,
   "metadata": {},
   "outputs": [],
   "source": [
    "def search_for_range(li,target):\n",
    "    l = 0\n",
    "    r = len(li) - 1\n",
    "    Left = 0\n",
    "    Right = 0\n",
    "    if not li:\n",
    "        return [-1,-1]\n",
    "    elif li[r] == li[l]:\n",
    "        if li[r]== target:\n",
    "            return [l,r]\n",
    "        else:\n",
    "            return [-1,-1]\n",
    "        \n",
    "    def binary(li,target,l,r):\n",
    "        if l > r:\n",
    "            return [-1, -1]\n",
    "        p = ( l + r) // 2\n",
    "\n",
    "        if li[p] == target:\n",
    "           return p\n",
    "        elif li[p] < target:\n",
    "            return binary(li, target,p+1,r)\n",
    "        else:\n",
    "            return binary(li, target, l, p-1)\n",
    "    \n",
    "    p = binary(li,target,l,r)\n",
    "\n",
    "    def exploreL(li,target,p,l):\n",
    "        if p == 0:\n",
    "            return 0\n",
    "        elif li[p-1] != target:\n",
    "            return p\n",
    "        else:\n",
    "            p1 = ( l + p) // 2\n",
    "            if li[p1] == target:\n",
    "                return exploreL(li,target,p1,l)\n",
    "            else:\n",
    "                return exploreR(li,target,p1+1,p)\n",
    "    \n",
    "    def exploreR(li,target,p,r):\n",
    "        if p == len(li)-1:\n",
    "            return ( len(li)-1 )\n",
    "        if li[p + 1] != target:\n",
    "            return p\n",
    "        else:\n",
    "            p1 = ( p + r) // 2\n",
    "            if li[p1] == target:\n",
    "                exploreR(li,target,p1+1,r)\n",
    "            else:\n",
    "                exploreL(li,target,p1,p)\n",
    "    \n",
    "    if p != [-1,-1]:\n",
    "        return [exploreL(li,target,p,0), exploreR(li, target,p ,r)]\n",
    "    else:\n",
    "        return p"
   ]
  }
 ],
 "metadata": {
  "kernelspec": {
   "display_name": "Python 3",
   "language": "python",
   "name": "python3"
  },
  "language_info": {
   "name": "python",
   "version": "3.12.5"
  }
 },
 "nbformat": 4,
 "nbformat_minor": 2
}
