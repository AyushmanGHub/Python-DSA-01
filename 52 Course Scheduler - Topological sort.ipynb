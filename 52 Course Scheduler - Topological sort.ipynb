{
 "cells": [
  {
   "cell_type": "markdown",
   "metadata": {},
   "source": [
    "## Course Scheduler / Topological sort\n",
    "You have to take a total of n courses leabled from 0 to n-1. Before you can take some courses you need to take it’s prerequisite courses. You are given an array prerequisites where each element [x,y] indicates that to take course x you have to take y first. E.g. [2,3] indicates that to take course 2 one has to first take course 3. Write a function that takes in n and the prerequisite array and returns true if you can complete all courses, else return false."
   ]
  },
  {
   "cell_type": "code",
   "execution_count": null,
   "metadata": {},
   "outputs": [],
   "source": [
    "## Brute Force method\n",
    "# Time complexity of O(n^2 + p + nE)\n",
    "# Space complexity of O(n + E)\n",
    "\n",
    "# form adjacency list\n",
    "# check if there is a cycle\n",
    "# graph can be unconnected\n",
    "# Trans via BFS or DFS\n",
    "\n",
    "from collections import deque\n",
    " \n",
    "def buildAdjList(n, prerecs):\n",
    "    adjList = [[] for _ in range(n)]\n",
    "    for prerec in prerecs:\n",
    "        toTake, firstTake = prerec\n",
    "        adjList[firstTake].append(toTake)\n",
    "   \n",
    "    print(adjList)\n",
    "    return adjList\n",
    "\n",
    "def checkCycleBFS(vertex, graph):\n",
    "    queue = deque()\n",
    "    visited = {}\n",
    "    for i in range(len(graph[vertex])):\n",
    "        queue.append(graph[vertex][i])\n",
    "    while queue:\n",
    "        curr = queue.popleft()\n",
    "        visited[curr] = True\n",
    "        if curr == vertex:\n",
    "            return True\n",
    "        neighbours = graph[curr]\n",
    "        for neighbour in neighbours:\n",
    "            if neighbour not in visited:\n",
    "                queue.append(neighbour)\n",
    "    return False\n",
    "\n",
    "def checkIfCanFinish(n, prerecs):\n",
    "    adjList = buildAdjList(n, prerecs)\n",
    "    hasCycle = False\n",
    "    for vertex in range(n):\n",
    "        hasCycle = checkCycleBFS(vertex, adjList)\n",
    "        if hasCycle == True:\n",
    "            return False\n",
    "    return True\n",
    " \n"
   ]
  },
  {
   "cell_type": "code",
   "execution_count": null,
   "metadata": {},
   "outputs": [],
   "source": [
    "n=8\n",
    "prerecs=[[1,0],[2,0],[4,2],[3,2],[1,3],[5,6],[7,5],[7,6]]\n",
    "print(checkIfCanFinish(n, prerecs))"
   ]
  },
  {
   "cell_type": "code",
   "execution_count": null,
   "metadata": {},
   "outputs": [],
   "source": [
    "## Topological Sort based method and Big O analysis\n",
    "## ---------------- PSEUDO CODE -------------------\n",
    "# Time complexity of O(n + p + E)\n",
    "# Space complexity of O(n + E)\n",
    "\n",
    "##  1. Adjacency list\n",
    "##     indegree factor of a vertex: number of edges into into that vertex\n",
    "##  2. vertices in degree 0 -> push it to stack\n",
    "##             while something in stack\n",
    "##                   { -> pop\n",
    "##                     -> count ++\n",
    "##                     -> neighbour indegree factor --1\n",
    "##                     -> indegree is 0, push it to stack \n",
    "##                   }\n"
   ]
  },
  {
   "cell_type": "code",
   "execution_count": null,
   "metadata": {},
   "outputs": [],
   "source": [
    "def helper(n, prerecs):\n",
    "    adjList = [[] for _ in range(n)]\n",
    "    inDegree = [0 for _ in range(n)]\n",
    "    for prerec in prerecs:\n",
    "        toTake, firstTake = prerec\n",
    "        adjList[firstTake].append(toTake)\n",
    "        inDegree[toTake] += 1\n",
    "    print([adjList, inDegree])\n",
    "    return [adjList, inDegree]\n",
    "# Final time complexity of helper: O(n + p), as we are iterating over n vertices and p prerequisites\n",
    " \n",
    "# Time complexity: O(n + E) where E is the total number of edges in the graph\n",
    "def checkIfCanFinish1(n, prerecs):\n",
    "    stack = []\n",
    "    adjList, inDegree = helper(n,prerecs)\n",
    "    for i in range(n):\n",
    "        if inDegree[i] == 0:\n",
    "            stack.append(i)\n",
    "    count = 0\n",
    "    while stack:\n",
    "        current = stack.pop()\n",
    "        count += 1\n",
    "        neighbours = adjList[current]\n",
    "        for i in range(len(neighbours)):\n",
    "            neighbour = neighbours[i]\n",
    "            inDegree[neighbour] -= 1\n",
    "            if inDegree[neighbour] == 0:\n",
    "                stack.append(neighbour)\n",
    "    return count == n\n",
    "\n",
    "\n",
    "n=8\n",
    "prerecs=[[1,0],[2,0],[4,2],[3,2],[1,3],[5,6],[7,5],[7,6]]\n",
    "print(checkIfCanFinish1(n, prerecs))"
   ]
  }
 ],
 "metadata": {
  "language_info": {
   "name": "python"
  }
 },
 "nbformat": 4,
 "nbformat_minor": 2
}
