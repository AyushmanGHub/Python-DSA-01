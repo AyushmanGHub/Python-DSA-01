{
 "cells": [
  {
   "cell_type": "markdown",
   "metadata": {},
   "source": [
    "## Cycle Detection \n",
    "You are given the head of a linked list. Check if there is a cycle and if yes,  return the node where the cycle begins. If there is no cycle, return null. There is a cycle in a linked list if there is some node in the list that can be reached again by continuously following the next pointer. Do not modify the linked list."
   ]
  },
  {
   "cell_type": "code",
   "execution_count": null,
   "metadata": {},
   "outputs": [],
   "source": [
    "# Brute Force method\n",
    "class Node:\n",
    "    def __init__(self, value):\n",
    "        self.value = value\n",
    "        self.next = None\n",
    "\n",
    "def checkLoop(head):\n",
    "    if not head:\n",
    "        return\n",
    "    elif not head.next:\n",
    "        return\n",
    "    \n",
    "    visited = {}\n",
    "    current = head\n",
    "    visited[head] = True\n",
    "    while(current):\n",
    "        if current.next not in visited:\n",
    "            visited[current.next] = True\n",
    "            current = current.next\n",
    "        else:\n",
    "            return current\n",
    "        "
   ]
  },
  {
   "cell_type": "code",
   "execution_count": null,
   "metadata": {},
   "outputs": [],
   "source": [
    "# Floyd's Tortoise and Hare Algorithm\n",
    "class Node:\n",
    "    def __init__(self, value):\n",
    "        self.value = value\n",
    "        self.next = None\n",
    " \n",
    "def checkLoop(head):\n",
    "    # Time Complexity Explanation:\n",
    "    # The while loop runs at most 'n' times where 'n' is the number of elements in the linked list. \n",
    "    # Thus, the time complexity is O(n).\n",
    "    \n",
    "    if not head or not head.next:\n",
    "        return None\n",
    " \n",
    "    hare = head\n",
    "    tortoise = head\n",
    "    while hare and hare.next:\n",
    "        hare = hare.next.next\n",
    "        tortoise = tortoise.next\n",
    "        if hare == tortoise:\n",
    "            break\n",
    " \n",
    "    if hare != tortoise:\n",
    "        return None\n",
    " \n",
    "    # find where cycle begins\n",
    "    pointer = head\n",
    "    while pointer != tortoise:\n",
    "        pointer = pointer.next\n",
    "        tortoise = tortoise.next\n",
    " \n",
    "    return tortoise\n"
   ]
  }
 ],
 "metadata": {
  "language_info": {
   "name": "python"
  }
 },
 "nbformat": 4,
 "nbformat_minor": 2
}
