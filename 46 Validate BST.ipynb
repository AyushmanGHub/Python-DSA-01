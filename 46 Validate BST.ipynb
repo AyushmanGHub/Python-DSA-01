{
 "cells": [
  {
   "cell_type": "markdown",
   "metadata": {},
   "source": [
    "## Validate BST\n",
    "You are given the root of a binary tree, determine if it is a valid binary search tree (BST). A valid BST is defined as follows:<br>\n",
    "The left subtree of a node contains only nodes with keys less than the node's key.<br>\n",
    "The right subtree of a node contains only nodes with keys greater than the node's key.<br>\n",
    "Both the left and right subtrees must also be binary search trees."
   ]
  },
  {
   "cell_type": "code",
   "execution_count": 5,
   "metadata": {},
   "outputs": [],
   "source": [
    "class Node:\n",
    "    def __init__(self, value):\n",
    "        self.value = value\n",
    "        self.left = None\n",
    "        self.right = None\n",
    " \n",
    "def buildBSTfromSortedArray(nums, left=0, right=None):\n",
    "    if right is None:\n",
    "        right = len(nums) - 1\n",
    "\n",
    "    if left > right: \n",
    "        return None\n",
    "\n",
    "    middle = (left + right) // 2 \n",
    "    node = Node(nums[middle])  \n",
    " \n",
    "    node.left = buildBSTfromSortedArray(nums, left, middle - 1)\n",
    "    node.right = buildBSTfromSortedArray(nums, middle + 1, right)\n",
    " \n",
    "    return node\n",
    "\n",
    "def valid_bin_tree(root):\n",
    "    # inorder DFS, left node, cuurent node, right node\n",
    "    if not root:\n",
    "        return\n",
    "    else:\n",
    "        array =[]\n",
    "        current = root\n",
    "\n",
    "        def transverse(node):\n",
    "            if node.left:\n",
    "                transverse(node.left)\n",
    "            array.append(node.value)\n",
    "            if node.right:\n",
    "                transverse(node.right)\n",
    "        transverse(current)\n",
    "        print(array)\n",
    "        for i in range(0,len(array)-1):\n",
    "            if array[i] >= array[i+1]:\n",
    "                return False\n",
    "        return True\n"
   ]
  },
  {
   "cell_type": "code",
   "execution_count": 6,
   "metadata": {},
   "outputs": [
    {
     "name": "stdout",
     "output_type": "stream",
     "text": [
      "[0, 1, 2, 3, 4, 5, 6, 7, 8, 9, 10, 11, 12, 13, 14, 15, 16, 17, 18, 19]\n",
      "True\n",
      "[69, 68, 54, 92, 95, 77, 99, 12, 23, 81, 0, 83, 67, 80, 84, 76, 37, 14, 5, 36]\n",
      "False\n"
     ]
    }
   ],
   "source": [
    "    \n",
    "## checking values\n",
    "nums = range(0,20)\n",
    "tree = (buildBSTfromSortedArray(nums))\n",
    "print(valid_bin_tree(tree))\n",
    "\n",
    "num2 = [69, 68, 54, 92, 95, 77, 99, 12, 23, 81, 0, 83, 67, 80, 84, 76, 37, 14, 5, 36]\n",
    "tree2 = (buildBSTfromSortedArray(num2))\n",
    "print(valid_bin_tree(tree2))\n",
    "\n",
    "# Time complexity = O(n)\n",
    "# Space complexity = O(depth) = O(N)"
   ]
  },
  {
   "cell_type": "code",
   "execution_count": 7,
   "metadata": {},
   "outputs": [
    {
     "name": "stdout",
     "output_type": "stream",
     "text": [
      "True\n"
     ]
    }
   ],
   "source": [
    "class Node:\n",
    "    def __init__(self, value):\n",
    "        self.value = value\n",
    "        self.left = None\n",
    "        self.right = None\n",
    " \n",
    "class BinaryTree:\n",
    "    def __init__(self):\n",
    "        self.root = None\n",
    " \n",
    "    def insert(self, array):\n",
    "        if not array: return\n",
    "        i = 0\n",
    "        if self.root is None:\n",
    "            if array[0] is None: return\n",
    "            else:\n",
    "                node = Node(array[0])\n",
    "                self.root = node\n",
    "                i += 1\n",
    "                if i == len(array): return self\n",
    "        #insert elements\n",
    "        queue = [self.root]\n",
    "        while queue:\n",
    "            current = queue.pop(0)\n",
    "            #left\n",
    "            if current.left is None:\n",
    "                if array[i] is not None:\n",
    "                    node = Node(array[i])\n",
    "                    current.left = node\n",
    "                i += 1\n",
    "                if i == len(array): return self\n",
    "            if current.left: queue.append(current.left)\n",
    "            #right\n",
    "            if current.right is None:\n",
    "                if array[i] is not None:\n",
    "                    node = Node(array[i])\n",
    "                    current.right = node\n",
    "                i += 1\n",
    "                if i == len(array): return self\n",
    "            if current.right: queue.append(current.right)\n",
    " \n",
    " \n",
    "def checkIfValidBST(root):\n",
    "    return helper(root, float('-inf'), float('inf')) \n",
    " \n",
    "def helper(node, min_val, max_val):\n",
    "    # Base case\n",
    "    if node is None:\n",
    "        return True\n",
    "    value = node.value\n",
    "    if value <= min_val or value >= max_val: \n",
    "        return False\n",
    "    # The left subtree's values must all be less than the current node's value\n",
    "    # The right subtree's values must all be greater than the current node's value\n",
    "    isLeftBST = helper(node.left, min_val, value)\n",
    "    isRightBST = helper(node.right, value, max_val)\n",
    "    return isLeftBST and isRightBST\n",
    " \n",
    "tree = BinaryTree()\n",
    "tree.insert([10,5,20,3,7,15,30,None,4,None,None,None,17,None,None,None,None,None,18])\n",
    " \n",
    "print(checkIfValidBST(tree.root))"
   ]
  }
 ],
 "metadata": {
  "kernelspec": {
   "display_name": "Python 3",
   "language": "python",
   "name": "python3"
  },
  "language_info": {
   "codemirror_mode": {
    "name": "ipython",
    "version": 3
   },
   "file_extension": ".py",
   "mimetype": "text/x-python",
   "name": "python",
   "nbconvert_exporter": "python",
   "pygments_lexer": "ipython3",
   "version": "3.12.5"
  }
 },
 "nbformat": 4,
 "nbformat_minor": 2
}
