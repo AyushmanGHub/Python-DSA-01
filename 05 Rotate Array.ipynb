{
 "cells": [
  {
   "cell_type": "markdown",
   "metadata": {},
   "source": [
    "### Rotate Array\n",
    "Given an array, rotate the array to the right by k steps, where k is non-negative."
   ]
  },
  {
   "cell_type": "code",
   "execution_count": 2,
   "metadata": {},
   "outputs": [],
   "source": [
    "# First Method\n",
    "def rotate_arraym1(a,k):\n",
    "    #write code\n",
    "    if not a:\n",
    "        return a\n",
    "    l = len(a)\n",
    "    r_a = list(a[((i-k)%l)] for i in range(l))\n",
    "    return(r_a)   \n"
   ]
  },
  {
   "cell_type": "code",
   "execution_count": 3,
   "metadata": {},
   "outputs": [],
   "source": [
    "# Second Method\n",
    "def rotate_arraym2(a, k):\n",
    "    if not a:\n",
    "        return a\n",
    "    l = len(a)\n",
    "    k = k % l  \n",
    "\n",
    "    return (a[-k:] + a[:-k])"
   ]
  },
  {
   "cell_type": "code",
   "execution_count": 5,
   "metadata": {},
   "outputs": [
    {
     "name": "stdout",
     "output_type": "stream",
     "text": [
      "list before rotating : [44, 65, -2, 3, 58, 14, -57, -23, 10, 1, 7, -74, 48]\n",
      "list after rotating : [1, 7, -74, 48, 44, 65, -2, 3, 58, 14, -57, -23, 10]\n",
      "list before rotating : [5, -122, 23, -7, 19, -34, 21, -11, 8, -29]\n",
      "list after srotating : [21, -11, 8, -29, 5, -122, 23, -7, 19, -34]\n"
     ]
    }
   ],
   "source": [
    "list_1 = [44, 65, -2, 3, 58, 14, -57, -23, 10, 1, 7, -74, 48]\n",
    "print(\"list before rotating :\", list_1)\n",
    "print(\"list after rotating :\", rotate_arraym2(list_1, 4))\n",
    "\n",
    "list_2 = [5, -122, 23, -7, 19, -34, 21, -11, 8, -29]\n",
    "print(\"list before rotating :\", list_2)\n",
    "print(\"list after srotating :\", rotate_arraym2(list_2, 4))"
   ]
  },
  {
   "cell_type": "code",
   "execution_count": 6,
   "metadata": {},
   "outputs": [
    {
     "name": "stdout",
     "output_type": "stream",
     "text": [
      "list before rotating : [44, 65, -2, 3, 58, 14, -57, -23, 10, 1, 7, -74, 48]\n",
      "list after rotating : [1, 7, -74, 48, 44, 65, -2, 3, 58, 14, -57, -23, 10]\n",
      "list before rotating : [5, -122, 23, -7, 19, -34, 21, -11, 8, -29]\n",
      "list after srotating : [21, -11, 8, -29, 5, -122, 23, -7, 19, -34]\n"
     ]
    }
   ],
   "source": [
    "list_1 = [44, 65, -2, 3, 58, 14, -57, -23, 10, 1, 7, -74, 48]\n",
    "print(\"list before rotating :\", list_1)\n",
    "print(\"list after rotating :\", rotate_arraym1(list_1, 4))\n",
    "\n",
    "list_2 = [5, -122, 23, -7, 19, -34, 21, -11, 8, -29]\n",
    "print(\"list before rotating :\", list_2)\n",
    "print(\"list after srotating :\", rotate_arraym1(list_2, 4))"
   ]
  }
 ],
 "metadata": {
  "kernelspec": {
   "display_name": "Python 3",
   "language": "python",
   "name": "python3"
  },
  "language_info": {
   "codemirror_mode": {
    "name": "ipython",
    "version": 3
   },
   "file_extension": ".py",
   "mimetype": "text/x-python",
   "name": "python",
   "nbconvert_exporter": "python",
   "pygments_lexer": "ipython3",
   "version": "3.12.5"
  }
 },
 "nbformat": 4,
 "nbformat_minor": 2
}
